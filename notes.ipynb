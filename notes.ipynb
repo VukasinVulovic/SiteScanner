{
 "cells": [
  {
   "cell_type": "code",
   "execution_count": null,
   "source": [
    "from termcolor import colored\r\n",
    "import requests\r\n",
    "\r\n",
    "def main():\r\n",
    "    def getSite(url):\r\n",
    "        r = requests.get(\"https://google.co/owo\")\r\n",
    "\r\n",
    "        if r.status_code != 200:\r\n",
    "            print(colored(f\"Waring: \\\"Server returned code {r.status_code}\\\";\", \"yellow\"))\r\n",
    "            return\r\n",
    "\r\n",
    "        \r\n",
    "\r\n",
    "if __name__ == \"__main__\":\r\n",
    "    main()"
   ],
   "outputs": [],
   "metadata": {}
  }
 ],
 "metadata": {
  "orig_nbformat": 4,
  "language_info": {
   "name": "python"
  }
 },
 "nbformat": 4,
 "nbformat_minor": 2
}